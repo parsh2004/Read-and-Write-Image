{
 "cells": [
  {
   "cell_type": "code",
   "execution_count": 8,
   "id": "c2805330",
   "metadata": {},
   "outputs": [
    {
     "name": "stdout",
     "output_type": "stream",
     "text": [
      "Requirement already satisfied: opencv.python in c:\\users\\parshwanath\\anaconda3\\lib\\site-packages (4.7.0.72)\n",
      "Requirement already satisfied: numpy>=1.19.3 in c:\\users\\parshwanath\\anaconda3\\lib\\site-packages (from opencv.python) (1.20.3)\n",
      "Note: you may need to restart the kernel to use updated packages.\n"
     ]
    }
   ],
   "source": [
    "pip install opencv.python"
   ]
  },
  {
   "cell_type": "code",
   "execution_count": 13,
   "id": "9e8ec212",
   "metadata": {},
   "outputs": [
    {
     "data": {
      "text/plain": [
       "-1"
      ]
     },
     "execution_count": 13,
     "metadata": {},
     "output_type": "execute_result"
    }
   ],
   "source": [
    "import cv2\n",
    "color_image=cv2.imread('rw.jpeg',1)\n",
    "cv2.imshow('rw',color_image)\n",
    "cv2.waitKey(0)"
   ]
  },
  {
   "cell_type": "code",
   "execution_count": 15,
   "id": "9038d4e9",
   "metadata": {},
   "outputs": [
    {
     "data": {
      "text/plain": [
       "-1"
      ]
     },
     "execution_count": 15,
     "metadata": {},
     "output_type": "execute_result"
    }
   ],
   "source": [
    "import cv2\n",
    "color_image = cv2.imread('rw.jpeg',1)\n",
    "h = cv2.imwrite('rw.jpeg',color_image)\n",
    "cv2.imshow('parsh',color_image)\n",
    "cv2.waitKey(0) "
   ]
  },
  {
   "cell_type": "code",
   "execution_count": 16,
   "id": "f13decb6",
   "metadata": {},
   "outputs": [
    {
     "name": "stdout",
     "output_type": "stream",
     "text": [
      "(667, 1000, 3)\n"
     ]
    }
   ],
   "source": [
    "import cv2\n",
    "color_image = cv2.imread('rw.jpeg',1)\n",
    "print(color_image.shape)"
   ]
  },
  {
   "cell_type": "code",
   "execution_count": 1,
   "id": "1d2bb45d",
   "metadata": {},
   "outputs": [
    {
     "data": {
      "text/plain": [
       "-1"
      ]
     },
     "execution_count": 1,
     "metadata": {},
     "output_type": "execute_result"
    }
   ],
   "source": [
    "import random\n",
    "import cv2\n",
    "color_image = cv2.imread('rw.jpeg',1)\n",
    "for i in range(150):\n",
    "    for j in range(color_image.shape[1]):\n",
    "        color_image[i][j] = [random.randint(0,255),random.randint(0,255),random.randint(0,255)]\n",
    "cv2.imshow('sun2.jpg',color_image)\n",
    "cv2.waitKey(0)"
   ]
  },
  {
   "cell_type": "code",
   "execution_count": 2,
   "id": "6798b03e",
   "metadata": {},
   "outputs": [
    {
     "data": {
      "text/plain": [
       "-1"
      ]
     },
     "execution_count": 2,
     "metadata": {},
     "output_type": "execute_result"
    }
   ],
   "source": [
    "import cv2\n",
    "color_image = cv2.imread('rw.jpeg',1)\n",
    "part = color_image[300:400,300:400]\n",
    "color_image[50:150,50:150] = part\n",
    "cv2.imshow(\"parsh\",color_image)\n",
    "cv2.waitKey(0)"
   ]
  },
  {
   "cell_type": "code",
   "execution_count": null,
   "id": "33cbd0b6",
   "metadata": {},
   "outputs": [],
   "source": []
  }
 ],
 "metadata": {
  "kernelspec": {
   "display_name": "Python 3 (ipykernel)",
   "language": "python",
   "name": "python3"
  },
  "language_info": {
   "codemirror_mode": {
    "name": "ipython",
    "version": 3
   },
   "file_extension": ".py",
   "mimetype": "text/x-python",
   "name": "python",
   "nbconvert_exporter": "python",
   "pygments_lexer": "ipython3",
   "version": "3.9.7"
  }
 },
 "nbformat": 4,
 "nbformat_minor": 5
}
